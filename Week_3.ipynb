{
 "cells": [
  {
   "cell_type": "markdown",
   "id": "f9fb22ec-87bd-48c5-ab92-5ca2b67b86b0",
   "metadata": {},
   "source": [
    "# 문제 1\n",
    "\n",
    "https://programmers.co.kr/learn/courses/30/lessons/42862"
   ]
  },
  {
   "cell_type": "code",
   "execution_count": 301,
   "id": "23012d61-857d-4312-aef2-b7ac14336adb",
   "metadata": {},
   "outputs": [],
   "source": [
    "def solution(n, lost, reserve):\n",
    "    temp = [1]*n\n",
    "    answer = n\n",
    "    for i in range(1,n+1):\n",
    "        if i in lost:\n",
    "            temp[i-1]=0\n",
    "        if i in reserve:\n",
    "            temp[i-1]+=1\n",
    "    \n",
    "    for j in range(n):\n",
    "        if temp[j]==0:\n",
    "            if j==0:\n",
    "                if temp[j+1]==2:\n",
    "                    temp[j+1]=1\n",
    "                    temp[j]=1\n",
    "            elif j<n-1:\n",
    "                if temp[j-1]==2:\n",
    "                    temp[j]=1\n",
    "                    temp[j-1]=1\n",
    "                elif temp[j+1]==2:\n",
    "                    temp[j]=1\n",
    "                    temp[j+1]=1\n",
    "            else:\n",
    "                if temp[j-1]==2:\n",
    "                    temp[j-1]=1\n",
    "                    temp[j]=1\n",
    "    for num in temp:\n",
    "        if num==0:\n",
    "            answer-=1\n",
    "    return answer"
   ]
  },
  {
   "cell_type": "code",
   "execution_count": 302,
   "id": "0da9ccea-03cb-42b4-a2b8-33e11729464b",
   "metadata": {},
   "outputs": [
    {
     "data": {
      "text/plain": [
       "10"
      ]
     },
     "execution_count": 302,
     "metadata": {},
     "output_type": "execute_result"
    }
   ],
   "source": [
    "solution(10, [8,9], [6,7,10])"
   ]
  },
  {
   "cell_type": "markdown",
   "id": "6bc4e198-c0a4-474d-a6a4-d1f698acc24e",
   "metadata": {},
   "source": [
    "# 문제 2\n",
    "\n",
    "https://programmers.co.kr/learn/courses/30/lessons/85002"
   ]
  },
  {
   "cell_type": "code",
   "execution_count": 303,
   "id": "1c0911b6-d4c1-4b80-8d33-5ba101617bb4",
   "metadata": {},
   "outputs": [],
   "source": [
    "def solution(weights, head2head):\n",
    "    win_rate = []\n",
    "    heav_match = []\n",
    "    size = len(head2head)\n",
    "    for i in range(size):\n",
    "        win_count = 0\n",
    "        heav_count = 0\n",
    "        fight_round = 0\n",
    "        for j in range(len(weights)):\n",
    "            if head2head[i][j]!='N':\n",
    "                fight_round += 1\n",
    "                if head2head[i][j]=='W':\n",
    "                    win_count+=1\n",
    "                    if weights[i]<weights[j]:\n",
    "                        heav_count+=1\n",
    "            if fight_round == 0:\n",
    "                rate = 0\n",
    "            else:\n",
    "                win_count = float(win_count)\n",
    "                rate = win_count/fight_round\n",
    "        win_rate.append(rate)\n",
    "        heav_match.append(heav_count)\n",
    "    temp =sorted(win_rate)\n",
    "    temp2 = sorted(heav_match)\n",
    "    temp3 = sorted(weights)\n",
    "    idx = []\n",
    "    answer = []\n",
    "    for i in range(len(temp)):\n",
    "        idx.append(temp.index(win_rate[i])+0.1*temp2.index(heav_match[i]) + 0.01*temp3.index(weights[i]) - 0.001*i)\n",
    "    temp4 = sorted(idx, reverse = True)\n",
    "    for rate in temp4:\n",
    "        answer.append(idx.index(rate)+1)    \n",
    "    return answer"
   ]
  },
  {
   "cell_type": "code",
   "execution_count": 304,
   "id": "fe7c154e-32d8-46a2-b54a-78a2fca093c2",
   "metadata": {},
   "outputs": [
    {
     "data": {
      "text/plain": [
       "[3, 4, 1, 2]"
      ]
     },
     "execution_count": 304,
     "metadata": {},
     "output_type": "execute_result"
    }
   ],
   "source": [
    "solution([50, 82, 75, 120], [\"NLWL\", \"WNLL\", \"LWNW\", \"WWLN\"])"
   ]
  },
  {
   "cell_type": "markdown",
   "id": "aefcb602-f22b-42a0-8f2d-6caa2bd2c5f7",
   "metadata": {},
   "source": [
    "# 문제 3\n",
    "\n",
    "https://programmers.co.kr/learn/courses/30/lessons/86048"
   ]
  },
  {
   "cell_type": "code",
   "execution_count": 305,
   "id": "855b7638-a3ac-4d40-9114-d3383844532f",
   "metadata": {},
   "outputs": [],
   "source": [
    "def solution(enter, leave):\n",
    "    room = []\n",
    "    answer = [0]*len(enter)\n",
    "    for per in enter:\n",
    "        room.append(per)\n",
    "        if len(room)>1:\n",
    "            for i in range(len(room)):\n",
    "                answer[room[i]-1]+=1\n",
    "        if len(room)>2:\n",
    "            answer[per-1]+=len(room)-2\n",
    "        for j in range(len(leave)):\n",
    "            if leave[j] in room:\n",
    "                room.remove(leave[j])\n",
    "            else:\n",
    "                leave = leave[j:]\n",
    "                break\n",
    "    return answer"
   ]
  },
  {
   "cell_type": "code",
   "execution_count": 306,
   "id": "30a3f88f-8f59-4230-a3d8-cc76b240183a",
   "metadata": {},
   "outputs": [
    {
     "data": {
      "text/plain": [
       "[2, 2, 0, 2]"
      ]
     },
     "execution_count": 306,
     "metadata": {},
     "output_type": "execute_result"
    }
   ],
   "source": [
    "solution([1, 4, 2, 3], [2, 1, 4, 3])"
   ]
  },
  {
   "cell_type": "markdown",
   "id": "36019e5e-6177-49d2-b0e6-e92898a62819",
   "metadata": {},
   "source": [
    "# 문제 4\n",
    "\n",
    "https://programmers.co.kr/learn/courses/30/lessons/70128"
   ]
  },
  {
   "cell_type": "code",
   "execution_count": 307,
   "id": "5bbdffa8-cd53-461d-97c3-c8a2b9335821",
   "metadata": {},
   "outputs": [],
   "source": [
    "def solution(a, b):\n",
    "    answer = 0\n",
    "    for i in range(len(a)):\n",
    "        answer += a[i]*b[i]\n",
    "    return answer"
   ]
  },
  {
   "cell_type": "code",
   "execution_count": 308,
   "id": "1a3e5088-e68a-4c5f-9a5f-dca4d14a545c",
   "metadata": {},
   "outputs": [
    {
     "data": {
      "text/plain": [
       "3"
      ]
     },
     "execution_count": 308,
     "metadata": {},
     "output_type": "execute_result"
    }
   ],
   "source": [
    "solution([1, 2, 3, 4], [-3, -1, 0, 2])"
   ]
  },
  {
   "cell_type": "markdown",
   "id": "23309ba0-412b-471d-a300-207f636bec8c",
   "metadata": {},
   "source": [
    "# 문제 5\n",
    "\n",
    "https://programmers.co.kr/learn/courses/30/lessons/86051"
   ]
  },
  {
   "cell_type": "code",
   "execution_count": 309,
   "id": "fc8e596b-58a1-4a8b-9f47-99a377a27720",
   "metadata": {},
   "outputs": [],
   "source": [
    "def solution(numbers):\n",
    "    answer = 0\n",
    "    for i in range(10):\n",
    "        if i not in numbers:\n",
    "            answer+=i\n",
    "    return answer"
   ]
  },
  {
   "cell_type": "code",
   "execution_count": 310,
   "id": "07cf073e-8bb5-471e-bf8d-6f4f6f0b2f3e",
   "metadata": {},
   "outputs": [
    {
     "data": {
      "text/plain": [
       "14"
      ]
     },
     "execution_count": 310,
     "metadata": {},
     "output_type": "execute_result"
    }
   ],
   "source": [
    "solution([1, 2, 3, 4, 6, 7, 8, 0])"
   ]
  },
  {
   "cell_type": "markdown",
   "id": "c2ec37e8-2e32-4e6b-8556-2182998665e9",
   "metadata": {},
   "source": [
    "# 문제 6\n",
    "\n"
   ]
  },
  {
   "cell_type": "code",
   "execution_count": 311,
   "id": "3df9149c-8a78-48d4-a965-7b024cd4a0ae",
   "metadata": {},
   "outputs": [],
   "source": [
    "def solution(nums):\n",
    "    \n",
    "    def prime_num(x):\n",
    "        for i in range(2,x):\n",
    "            if x%i==0:\n",
    "                return False\n",
    "        return True\n",
    "    \n",
    "    answer = 0\n",
    "    for i in range(len(nums)-2):\n",
    "        for j in range(i+1,len(nums)):\n",
    "            for k in range(j+1,len(nums)):\n",
    "                num = nums[i]+nums[j]+nums[k]\n",
    "                if prime_num(num) == True:\n",
    "                    answer+=1\n",
    "    return answer"
   ]
  },
  {
   "cell_type": "code",
   "execution_count": 312,
   "id": "2afb54f3-7bbe-4b29-895e-34e45795089c",
   "metadata": {},
   "outputs": [
    {
     "data": {
      "text/plain": [
       "1"
      ]
     },
     "execution_count": 312,
     "metadata": {},
     "output_type": "execute_result"
    }
   ],
   "source": [
    "solution([1, 2, 3, 4])"
   ]
  },
  {
   "cell_type": "markdown",
   "id": "b39ba9af-722e-436f-8900-5aca312ccaaf",
   "metadata": {},
   "source": [
    "# 문제 7\n",
    "\n",
    "https://programmers.co.kr/learn/courses/30/lessons/42748"
   ]
  },
  {
   "cell_type": "code",
   "execution_count": 313,
   "id": "e8244e49-1d23-4741-ba31-07a65a479570",
   "metadata": {},
   "outputs": [],
   "source": [
    "def solution(array, commands):\n",
    "    answer = []\n",
    "    for command in commands:\n",
    "        temp = sorted(array[command[0]-1:command[1]])\n",
    "        answer.append(temp[command[2]-1])\n",
    "    return answer"
   ]
  },
  {
   "cell_type": "code",
   "execution_count": 314,
   "id": "00dc7f6e-7702-4f7c-8d1b-adf05e359642",
   "metadata": {},
   "outputs": [
    {
     "data": {
      "text/plain": [
       "[5, 6, 3]"
      ]
     },
     "execution_count": 314,
     "metadata": {},
     "output_type": "execute_result"
    }
   ],
   "source": [
    "solution([1, 5, 2, 6, 3, 7, 4], [[2, 5, 3], [4, 4, 1], [1, 7, 3]])"
   ]
  },
  {
   "cell_type": "code",
   "execution_count": null,
   "id": "c054c419-3113-4a2f-b0a8-941e2e17dfc2",
   "metadata": {},
   "outputs": [],
   "source": []
  }
 ],
 "metadata": {
  "kernelspec": {
   "display_name": "Python 3",
   "language": "python",
   "name": "python3"
  },
  "language_info": {
   "codemirror_mode": {
    "name": "ipython",
    "version": 3
   },
   "file_extension": ".py",
   "mimetype": "text/x-python",
   "name": "python",
   "nbconvert_exporter": "python",
   "pygments_lexer": "ipython3",
   "version": "3.8.8"
  }
 },
 "nbformat": 4,
 "nbformat_minor": 5
}
