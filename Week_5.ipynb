{
 "cells": [
  {
   "cell_type": "markdown",
   "id": "2a2e01bb-19ef-4374-b868-ad76005a10d2",
   "metadata": {},
   "source": [
    "# 문제 1\n",
    "\n",
    "https://programmers.co.kr/learn/courses/30/lessons/12903"
   ]
  },
  {
   "cell_type": "code",
   "execution_count": 211,
   "id": "7cf36c03-f6ec-4dce-a935-c01a779e2a9e",
   "metadata": {},
   "outputs": [],
   "source": [
    "def solution(s):\n",
    "    if len(s)%2 == 0:\n",
    "        answer = s[(len(s)//2)-1:len(s)//2+1]\n",
    "    else:\n",
    "        answer = s[len(s)//2]\n",
    "    return answer"
   ]
  },
  {
   "cell_type": "markdown",
   "id": "b2e9b8ae-4dfc-46fc-ae19-1896a53975d5",
   "metadata": {},
   "source": [
    "# 문제 2\n",
    "\n",
    "https://programmers.co.kr/learn/courses/30/lessons/68935"
   ]
  },
  {
   "cell_type": "code",
   "execution_count": 168,
   "id": "dd65fd91-0262-4ee4-bf54-f0b9d582ea38",
   "metadata": {},
   "outputs": [],
   "source": [
    "def solution(n):\n",
    "    a=n\n",
    "    result = ''\n",
    "    while a > 0:\n",
    "        result+=str(a%3)\n",
    "        a = a//3\n",
    "    answer = 0\n",
    "    for i in range(len(result)):\n",
    "        answer+=int(result[-(i+1)])*(3**i)\n",
    "    return answer"
   ]
  },
  {
   "cell_type": "code",
   "execution_count": 169,
   "id": "7e9cf45a-7910-4b9b-84ce-79673797986f",
   "metadata": {},
   "outputs": [
    {
     "data": {
      "text/plain": [
       "229"
      ]
     },
     "execution_count": 169,
     "metadata": {},
     "output_type": "execute_result"
    }
   ],
   "source": [
    "solution(125)"
   ]
  },
  {
   "cell_type": "markdown",
   "id": "72ade0c6-26a1-4695-8f49-7bd93b44fd8e",
   "metadata": {},
   "source": [
    "# 문제 3\n",
    "\n",
    "https://programmers.co.kr/learn/courses/30/lessons/12982"
   ]
  },
  {
   "cell_type": "code",
   "execution_count": 185,
   "id": "db674d68-babb-4fd6-bf4f-53cf8705bd64",
   "metadata": {},
   "outputs": [],
   "source": [
    "def solution(d, budget):\n",
    "    d.sort()\n",
    "    print(d)\n",
    "    total , count = 0, 0\n",
    "    while True:\n",
    "        for i in d:\n",
    "            total+=i\n",
    "            print(total)\n",
    "            if total <= budget:\n",
    "                count+=1\n",
    "            else:\n",
    "                break\n",
    "        break\n",
    "    return count"
   ]
  },
  {
   "cell_type": "code",
   "execution_count": 186,
   "id": "339607da-1c5c-4747-a776-dc306ea3deb0",
   "metadata": {},
   "outputs": [
    {
     "name": "stdout",
     "output_type": "stream",
     "text": [
      "[1, 2, 3, 4, 5]\n",
      "1\n",
      "3\n",
      "6\n",
      "10\n"
     ]
    },
    {
     "data": {
      "text/plain": [
       "3"
      ]
     },
     "execution_count": 186,
     "metadata": {},
     "output_type": "execute_result"
    }
   ],
   "source": [
    "solution([1, 3, 2, 5, 4], 9)"
   ]
  },
  {
   "cell_type": "markdown",
   "id": "b82c6d4e-a062-408b-9f5b-1d6f8153df5c",
   "metadata": {},
   "source": [
    "# 문제 4\n",
    "\n",
    "https://programmers.co.kr/learn/courses/30/lessons/68644"
   ]
  },
  {
   "cell_type": "code",
   "execution_count": 195,
   "id": "5f2d5747-13ca-4a74-8f58-76ce16c091e9",
   "metadata": {},
   "outputs": [],
   "source": [
    "def solution(numbers):\n",
    "    answer = []\n",
    "    for i in range(len(numbers)-1):\n",
    "        for j in range(i+1,len(numbers)):\n",
    "            if numbers[i]+numbers[j] not in answer:\n",
    "                answer.append(numbers[i]+numbers[j])\n",
    "    answer.sort()\n",
    "    return answer"
   ]
  },
  {
   "cell_type": "code",
   "execution_count": 196,
   "id": "cb2c7250-dbd1-4bd2-b1ac-01a47e8f76e8",
   "metadata": {},
   "outputs": [
    {
     "name": "stdout",
     "output_type": "stream",
     "text": [
      "0 1 [3]\n",
      "0 2 [3, 5]\n",
      "0 3 [3, 5, 6]\n",
      "1 2 [3, 5, 6, 4]\n",
      "1 4 [3, 5, 6, 4, 2]\n",
      "2 3 [3, 5, 6, 4, 2, 7]\n"
     ]
    },
    {
     "data": {
      "text/plain": [
       "[2, 3, 4, 5, 6, 7]"
      ]
     },
     "execution_count": 196,
     "metadata": {},
     "output_type": "execute_result"
    }
   ],
   "source": [
    "solution([2, 1, 3, 4, 1])"
   ]
  },
  {
   "cell_type": "markdown",
   "id": "51f00e10-a46c-4f9c-bde3-80670a1f56ae",
   "metadata": {},
   "source": [
    "# 문제 5\n",
    "\n",
    "https://programmers.co.kr/learn/courses/30/lessons/12901"
   ]
  },
  {
   "cell_type": "code",
   "execution_count": 208,
   "id": "2f2ed8ed-3a45-4200-b40c-885f155ac863",
   "metadata": {},
   "outputs": [],
   "source": [
    "def solution(a, b):\n",
    "    day = {3:'SUN', 4: 'MON', 5: 'TUE', 6: 'WED', 0: 'THU', 1: 'FRI',2: 'SAT'}\n",
    "    month_31 = [3,5,7,8,10,12]\n",
    "    if a == 2:\n",
    "        b = b+31\n",
    "    elif a == 1:\n",
    "        pass\n",
    "    elif a in month_31:\n",
    "        b+=(a//2)*61 - 1\n",
    "    else:\n",
    "        b+=(a//2-1)*61 + 31 -1\n",
    "    print(b)\n",
    "    answer = day[b%7]\n",
    "    return answer"
   ]
  },
  {
   "cell_type": "code",
   "execution_count": 209,
   "id": "99ceaeaa-8cb8-405b-bd5c-87787f06ea99",
   "metadata": {},
   "outputs": [
    {
     "name": "stdout",
     "output_type": "stream",
     "text": [
      "145\n"
     ]
    },
    {
     "data": {
      "text/plain": [
       "'TUE'"
      ]
     },
     "execution_count": 209,
     "metadata": {},
     "output_type": "execute_result"
    }
   ],
   "source": [
    "solution(5, 24)"
   ]
  },
  {
   "cell_type": "code",
   "execution_count": null,
   "id": "85d7e915-3079-4ae7-8978-dc54d7628ce8",
   "metadata": {},
   "outputs": [],
   "source": []
  }
 ],
 "metadata": {
  "kernelspec": {
   "display_name": "Python 3",
   "language": "python",
   "name": "python3"
  },
  "language_info": {
   "codemirror_mode": {
    "name": "ipython",
    "version": 3
   },
   "file_extension": ".py",
   "mimetype": "text/x-python",
   "name": "python",
   "nbconvert_exporter": "python",
   "pygments_lexer": "ipython3",
   "version": "3.8.8"
  }
 },
 "nbformat": 4,
 "nbformat_minor": 5
}
