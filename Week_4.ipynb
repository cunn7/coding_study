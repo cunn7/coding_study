{
 "cells": [
  {
   "cell_type": "markdown",
   "id": "a740c516-b1c5-4e8f-ab82-f7a725c9d0df",
   "metadata": {},
   "source": [
    "# 문제 1\n",
    "\n",
    "https://programmers.co.kr/learn/courses/30/lessons/86491"
   ]
  },
  {
   "cell_type": "code",
   "execution_count": 19,
   "id": "7ff31088-4eef-4a63-ab40-a1d04fece783",
   "metadata": {},
   "outputs": [],
   "source": [
    "def solution(sizes):\n",
    "    size_1, size_2 = 0, 0\n",
    "    for size in sizes:\n",
    "        size.sort()\n",
    "        print(size)\n",
    "        if size[1] > size_1:\n",
    "            size_1 = size[1]\n",
    "            print(size_1)\n",
    "        if size[0] > size_2:\n",
    "            size_2 = size[0]\n",
    "            print(size_2)\n",
    "    answer = size_1*size_2\n",
    "    return answer"
   ]
  },
  {
   "cell_type": "code",
   "execution_count": 20,
   "id": "8dd4d9e9-1a34-40d8-a2a8-84a8bcf3a9c6",
   "metadata": {},
   "outputs": [
    {
     "name": "stdout",
     "output_type": "stream",
     "text": [
      "[7, 10]\n",
      "10\n",
      "7\n",
      "[3, 12]\n",
      "12\n",
      "[8, 15]\n",
      "15\n",
      "8\n",
      "[7, 14]\n",
      "[5, 15]\n"
     ]
    },
    {
     "data": {
      "text/plain": [
       "120"
      ]
     },
     "execution_count": 20,
     "metadata": {},
     "output_type": "execute_result"
    }
   ],
   "source": [
    "solution([[10, 7], [12, 3], [8, 15], [14, 7], [5, 15]])"
   ]
  },
  {
   "cell_type": "markdown",
   "id": "36ec74d0-aa97-4547-81dc-d1225e7624f2",
   "metadata": {},
   "source": [
    "# 문제 2\n",
    "\n",
    "https://programmers.co.kr/learn/courses/30/lessons/42577"
   ]
  },
  {
   "cell_type": "code",
   "execution_count": 23,
   "id": "2ceade41-00df-4d3e-9aea-68d92d701415",
   "metadata": {},
   "outputs": [],
   "source": [
    "def solution(phone_book):\n",
    "    phone_book.sort()\n",
    "    for i in range(len(phone_book)-1):\n",
    "        temp = len(phone_book[i])\n",
    "        if phone_book[i+1][:temp]==phone_book[i]:\n",
    "            return False\n",
    "\n",
    "    return True"
   ]
  },
  {
   "cell_type": "code",
   "execution_count": 24,
   "id": "6b9a9cfd-4eaa-4e90-82f4-a6f1979db11b",
   "metadata": {},
   "outputs": [
    {
     "data": {
      "text/plain": [
       "True"
      ]
     },
     "execution_count": 24,
     "metadata": {},
     "output_type": "execute_result"
    }
   ],
   "source": [
    "solution([\"119\", \"97674223\", \"1195524421\"])"
   ]
  },
  {
   "cell_type": "markdown",
   "id": "958f2910-7db6-4ef1-9a6b-9ffeb47741fb",
   "metadata": {},
   "source": [
    "# 문제 3"
   ]
  },
  {
   "cell_type": "code",
   "execution_count": 25,
   "id": "cecd56f2-8f55-418f-b5ad-f9becb8a5cd0",
   "metadata": {},
   "outputs": [],
   "source": [
    "def solution(nums):\n",
    "    kind = set(nums)\n",
    "    a = len(kind)\n",
    "    b = len(nums)/2\n",
    "    if a>b:\n",
    "        answer = b\n",
    "    else:\n",
    "        answer = a\n",
    "    return answer"
   ]
  },
  {
   "cell_type": "markdown",
   "id": "f8bd51e0-2c2a-452e-a844-83c5a87cc18e",
   "metadata": {},
   "source": [
    "# 문제 4\n",
    "\n",
    "https://programmers.co.kr/learn/courses/30/lessons/42889"
   ]
  },
  {
   "cell_type": "code",
   "execution_count": 101,
   "id": "41fe5ba3-c8ab-4dea-939f-8ae00bde540c",
   "metadata": {},
   "outputs": [],
   "source": [
    "def solution(N, stages):\n",
    "    result = []\n",
    "    answer = []\n",
    "    num = len(stages)\n",
    "    for i in range(1,N+1):\n",
    "        result.append([i,(stages.count(i)/num)])\n",
    "        num -=stages.count(i)\n",
    "    result.sort(key = lambda x:x[1], reverse = True)\n",
    "    for j in result:\n",
    "        answer.append(j[0])\n",
    "    return answer"
   ]
  },
  {
   "cell_type": "code",
   "execution_count": 102,
   "id": "7ca75f20-8030-46e3-949f-a95a18ef8d6e",
   "metadata": {},
   "outputs": [
    {
     "data": {
      "text/plain": [
       "[3, 4, 2, 1, 5]"
      ]
     },
     "execution_count": 102,
     "metadata": {},
     "output_type": "execute_result"
    }
   ],
   "source": [
    "solution(5, [2, 1, 2, 6, 2, 4, 3, 3])"
   ]
  },
  {
   "cell_type": "markdown",
   "id": "c948b1d6-6d89-44ad-8c84-f511ed3a1ff7",
   "metadata": {},
   "source": [
    "# 문제 5\n",
    "\n",
    "https://programmers.co.kr/learn/courses/30/lessons/77884"
   ]
  },
  {
   "cell_type": "code",
   "execution_count": 65,
   "id": "9e3b0563-1c87-4c76-94d7-623538255027",
   "metadata": {},
   "outputs": [],
   "source": [
    "def solution(left, right):\n",
    "    ans = 0\n",
    "    for i in range(left, right+1):\n",
    "        count = 0\n",
    "        for j in range(1,i+1):\n",
    "            if i%j==0:\n",
    "                count+=1\n",
    "        if count%2==0:\n",
    "            ans+=i\n",
    "        else:\n",
    "            ans-=i\n",
    "    return ans"
   ]
  },
  {
   "cell_type": "code",
   "execution_count": 64,
   "id": "c375c540-1c74-4ff3-bb44-ed389b5c2490",
   "metadata": {},
   "outputs": [
    {
     "name": "stdout",
     "output_type": "stream",
     "text": [
      "1\n",
      "2\n",
      "3\n",
      "4\n"
     ]
    }
   ],
   "source": []
  },
  {
   "cell_type": "code",
   "execution_count": null,
   "id": "f67bcca3-5ce9-4690-ac68-8e37a6a1f7cd",
   "metadata": {},
   "outputs": [],
   "source": []
  }
 ],
 "metadata": {
  "kernelspec": {
   "display_name": "Python 3",
   "language": "python",
   "name": "python3"
  },
  "language_info": {
   "codemirror_mode": {
    "name": "ipython",
    "version": 3
   },
   "file_extension": ".py",
   "mimetype": "text/x-python",
   "name": "python",
   "nbconvert_exporter": "python",
   "pygments_lexer": "ipython3",
   "version": "3.8.8"
  }
 },
 "nbformat": 4,
 "nbformat_minor": 5
}
