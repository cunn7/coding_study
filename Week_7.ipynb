{
 "cells": [
  {
   "cell_type": "markdown",
   "id": "ebad6c71-c582-48a0-98d1-78151e8c85b8",
   "metadata": {},
   "source": [
    "# 문제 1\n",
    "\n",
    "https://programmers.co.kr/learn/courses/30/lessons/12916"
   ]
  },
  {
   "cell_type": "code",
   "execution_count": 1,
   "id": "435f3d75-8aaf-4704-9dde-1eb7840c7229",
   "metadata": {},
   "outputs": [],
   "source": [
    "def solution(s):\n",
    "    s = s.lower()\n",
    "    if s.count('p') == s.count('y'):\n",
    "        return True\n",
    "    else:\n",
    "        return False"
   ]
  },
  {
   "cell_type": "code",
   "execution_count": 2,
   "id": "78194b16-d353-4e78-9ba1-d6f7540a05f7",
   "metadata": {},
   "outputs": [
    {
     "name": "stdout",
     "output_type": "stream",
     "text": [
      "aBCd\n"
     ]
    },
    {
     "data": {
      "text/plain": [
       "True"
      ]
     },
     "execution_count": 2,
     "metadata": {},
     "output_type": "execute_result"
    }
   ],
   "source": [
    "solution('aBCd')"
   ]
  },
  {
   "cell_type": "markdown",
   "id": "11861920-3f8b-4c0c-baa2-a817f7e3e739",
   "metadata": {},
   "source": [
    "# 문제 2\n",
    "\n",
    "https://programmers.co.kr/learn/courses/30/lessons/12917"
   ]
  },
  {
   "cell_type": "code",
   "execution_count": 3,
   "id": "66ef1f6a-42ff-4b57-81dc-4270da849a0f",
   "metadata": {},
   "outputs": [],
   "source": [
    "def solution(s):\n",
    "    answer = ''\n",
    "    temp = sorted(s, reverse = True)\n",
    "    for i in temp:\n",
    "        answer +=i\n",
    "    return answer"
   ]
  },
  {
   "cell_type": "markdown",
   "id": "32798bc1-e7f9-4df2-9497-f7ecd1b96f9b",
   "metadata": {},
   "source": [
    "# 문제 3\n",
    "\n",
    "https://programmers.co.kr/learn/courses/30/lessons/12918"
   ]
  },
  {
   "cell_type": "code",
   "execution_count": 6,
   "id": "4366a0c9-adf7-44aa-8179-1bb9178cb015",
   "metadata": {},
   "outputs": [],
   "source": [
    "def solution(s):\n",
    "    if (len(s) == 4 or len(s) == 6) and s.isdigit() == True:\n",
    "        answer = True\n",
    "    else:\n",
    "        answer = False\n",
    "    return answer"
   ]
  },
  {
   "cell_type": "markdown",
   "id": "ba62f197-0e3a-40a4-9b94-69725ecc3b25",
   "metadata": {},
   "source": [
    "# 문제 4\n",
    "\n",
    "https://programmers.co.kr/learn/courses/30/lessons/12919"
   ]
  },
  {
   "cell_type": "code",
   "execution_count": 7,
   "id": "da19248e-2ece-40f6-be69-9d2759ae167b",
   "metadata": {},
   "outputs": [],
   "source": [
    "def solution(seoul):\n",
    "    answer = '김서방은 {}에 있다.'.format(seoul.index('Kim'))\n",
    "    return answer"
   ]
  },
  {
   "cell_type": "markdown",
   "id": "e8ec07a4-48b4-43d3-baa9-0671ac8afd24",
   "metadata": {},
   "source": [
    "# 문제 5\n",
    "\n",
    "https://programmers.co.kr/learn/courses/30/lessons/67256"
   ]
  },
  {
   "cell_type": "code",
   "execution_count": 56,
   "id": "8afbde83-2993-4a94-8f1e-c77fd27f5c07",
   "metadata": {},
   "outputs": [],
   "source": [
    "def solution(numbers, hand):\n",
    "    dial = {1:[0,0], 2:[0,1], 3:[0,2], 4:[1,0], 5:[1,1], 6:[1,2], 7:[2,0], 8:[2,1], 9:[2,2], 0:[3,1]}\n",
    "    L_loc = [3,0]\n",
    "    R_loc = [3,2]\n",
    "    answer = ''\n",
    "    for num in numbers:\n",
    "        if num in [1,4,7]:\n",
    "            L_loc = dial[num]\n",
    "            answer +='L'\n",
    "        elif num in [3,6,9]:\n",
    "            R_loc = dial[num]\n",
    "            answer += 'R'\n",
    "        else:\n",
    "            temp = dial[num]\n",
    "            L_dis = abs(temp[0]-L_loc[0])+abs(temp[1]-L_loc[1])\n",
    "            R_dis = abs(temp[0]-R_loc[0])+abs(temp[1]-R_loc[1])\n",
    "            if L_dis < R_dis:\n",
    "                L_loc = temp\n",
    "                answer+='L'\n",
    "            elif R_dis < L_dis:\n",
    "                R_loc = temp\n",
    "                answer+='R'\n",
    "            else:\n",
    "                if hand == 'right':\n",
    "                    answer+='R'\n",
    "                    R_loc = temp\n",
    "                else:\n",
    "                    answer+='L'\n",
    "                    L_loc = temp\n",
    "    return answer"
   ]
  },
  {
   "cell_type": "code",
   "execution_count": 57,
   "id": "5360bd7d-7379-46c4-b51d-5d7d83b8cab7",
   "metadata": {},
   "outputs": [
    {
     "data": {
      "text/plain": [
       "'LRLLLRLLRRL'"
      ]
     },
     "execution_count": 57,
     "metadata": {},
     "output_type": "execute_result"
    }
   ],
   "source": [
    "solution([1, 3, 4, 5, 8, 2, 1, 4, 5, 9, 5], \"right\")"
   ]
  },
  {
   "cell_type": "markdown",
   "id": "614e1793-a7cd-4f0d-b6ff-a627531233a4",
   "metadata": {},
   "source": [
    "# 문제 6\n",
    "\n",
    "https://programmers.co.kr/learn/courses/30/lessons/64061"
   ]
  },
  {
   "cell_type": "code",
   "execution_count": 131,
   "id": "6f66f21b-9592-484b-996d-f97643d1b0a0",
   "metadata": {},
   "outputs": [],
   "source": [
    "def solution(board, moves):\n",
    "    answer = 0\n",
    "    basket = []\n",
    "    for move in moves:\n",
    "        for i in range(len(board)):\n",
    "            if board[i][move-1] != 0:\n",
    "                basket.append(board[i][move-1])\n",
    "                board[i][move-1]=0\n",
    "                if len(basket)>1:\n",
    "                    if basket[-1] == basket[-2]:\n",
    "                        del basket[-2:]\n",
    "                        answer+=2\n",
    "                break\n",
    "    return answer"
   ]
  },
  {
   "cell_type": "code",
   "execution_count": 132,
   "id": "f779c0be-fc01-4ac1-96c6-0ef6e902df6e",
   "metadata": {},
   "outputs": [
    {
     "data": {
      "text/plain": [
       "4"
      ]
     },
     "execution_count": 132,
     "metadata": {},
     "output_type": "execute_result"
    }
   ],
   "source": [
    "solution([[0, 0, 0, 0, 0], [0, 0, 1, 0, 3], [0, 2, 5, 0, 1], [4, 2, 4, 4, 2], [3, 5, 1, 3, 1]], [1, 5, 3, 5, 1, 2, 1, 4])"
   ]
  },
  {
   "cell_type": "markdown",
   "id": "72346335-f5ce-49ab-8a81-981d3e3daf34",
   "metadata": {},
   "source": [
    "# 문제 7\n",
    "\n",
    "https://programmers.co.kr/learn/courses/30/lessons/60057"
   ]
  },
  {
   "cell_type": "code",
   "execution_count": 239,
   "id": "c6f72264-32b7-4764-9d22-88b84d8953a8",
   "metadata": {},
   "outputs": [],
   "source": [
    "def solution(s):\n",
    "    nums = [i for i in range(1,len(s)) if len(s)%i==0]\n",
    "    temp2=[len(s)]\n",
    "    for num in range(1,len(s)):\n",
    "        temp = [s[i:i+num] for i in range(0, len(s), num)]\n",
    "        a = temp[0]\n",
    "        count = 0\n",
    "        length = 0\n",
    "        for j in range(1,len(temp)):\n",
    "            if a == temp[j]:\n",
    "                count+=1\n",
    "                if len(temp)-1==j:\n",
    "                    length+=len(temp[j])+len(str(count+1))\n",
    "            else:\n",
    "                length+=len(a)\n",
    "                if count!=0:\n",
    "                    length+=len(str(count+1))\n",
    "                if len(temp)-1==j:\n",
    "                    length+=len(temp[j])\n",
    "                a = temp[j]\n",
    "                count=0\n",
    "        temp2.append(length)\n",
    "    return min(temp2)"
   ]
  },
  {
   "cell_type": "code",
   "execution_count": 240,
   "id": "6b8e9b60-5293-4771-894b-a5848f78043f",
   "metadata": {},
   "outputs": [
    {
     "data": {
      "text/plain": [
       "7"
      ]
     },
     "execution_count": 240,
     "metadata": {},
     "output_type": "execute_result"
    }
   ],
   "source": [
    "solution(\"aabbaccc\")"
   ]
  },
  {
   "cell_type": "code",
   "execution_count": 241,
   "id": "dbb4960a-4fc9-480c-835f-a2d5ea63c6c3",
   "metadata": {
    "tags": []
   },
   "outputs": [
    {
     "data": {
      "text/plain": [
       "8"
      ]
     },
     "execution_count": 241,
     "metadata": {},
     "output_type": "execute_result"
    }
   ],
   "source": [
    "solution(\"abcabcdede\")"
   ]
  },
  {
   "cell_type": "markdown",
   "id": "ac750a4a-3581-48d2-95bc-132bd8926ee3",
   "metadata": {},
   "source": [
    "# 문제 8\n",
    "\n",
    "https://programmers.co.kr/learn/courses/30/lessons/42888"
   ]
  },
  {
   "cell_type": "code",
   "execution_count": 256,
   "id": "7ccbca00-96c8-4465-b96a-28a7d5322492",
   "metadata": {},
   "outputs": [],
   "source": [
    "def solution(record):\n",
    "    answer = []\n",
    "    records = []\n",
    "    names = {}\n",
    "    for log in record:\n",
    "        a = log.split()\n",
    "        records.append(a)\n",
    "        if len(a)>2:\n",
    "            names[a[1]] = a[2]\n",
    "    for i in records:\n",
    "        if i[0] == 'Enter':\n",
    "            answer.append(\"{}님이 들어왔습니다.\".format(names[i[1]]))\n",
    "        elif i[0] == 'Leave':\n",
    "            answer.append(\"{}님이 나갔습니다.\".format(names[i[1]]))\n",
    "    return answer"
   ]
  },
  {
   "cell_type": "code",
   "execution_count": 257,
   "id": "20d4b2c6-1ee7-45dc-91c2-e6c790b409db",
   "metadata": {},
   "outputs": [
    {
     "data": {
      "text/plain": [
       "['Prodo님이 들어왔습니다.', 'Ryan님이 들어왔습니다.', 'Prodo님이 나갔습니다.', 'Prodo님이 들어왔습니다.']"
      ]
     },
     "execution_count": 257,
     "metadata": {},
     "output_type": "execute_result"
    }
   ],
   "source": [
    "solution([\"Enter uid1234 Muzi\", \"Enter uid4567 Prodo\",\"Leave uid1234\",\"Enter uid1234 Prodo\",\"Change uid4567 Ryan\"])"
   ]
  }
 ],
 "metadata": {
  "kernelspec": {
   "display_name": "Python 3",
   "language": "python",
   "name": "python3"
  },
  "language_info": {
   "codemirror_mode": {
    "name": "ipython",
    "version": 3
   },
   "file_extension": ".py",
   "mimetype": "text/x-python",
   "name": "python",
   "nbconvert_exporter": "python",
   "pygments_lexer": "ipython3",
   "version": "3.8.8"
  }
 },
 "nbformat": 4,
 "nbformat_minor": 5
}
