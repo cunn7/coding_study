{
 "cells": [
  {
   "cell_type": "markdown",
   "id": "166881b7-bee1-436a-8a93-fb7bc8847694",
   "metadata": {},
   "source": [
    "# 문제 1"
   ]
  },
  {
   "cell_type": "markdown",
   "id": "0700b921-f989-46bc-b5e1-eda0caedd938",
   "metadata": {},
   "source": [
    "\n",
    "https://programmers.co.kr/learn/courses/30/lessons/82612"
   ]
  },
  {
   "cell_type": "code",
   "execution_count": 1,
   "id": "65b01745-c77a-4856-b0a6-2c88842eb705",
   "metadata": {},
   "outputs": [],
   "source": [
    "def solution(price, money, count):\n",
    "    n = 0\n",
    "    for i in range(1 ,count+1):\n",
    "        n = n + i\n",
    "    total_price = n*price\n",
    "    if money >= total_price:\n",
    "        answer = 0\n",
    "    else:\n",
    "        answer = total_price-money\n",
    "    return answer"
   ]
  },
  {
   "cell_type": "markdown",
   "id": "5fb05b58-6396-4718-95bb-8c5f55d7bd9c",
   "metadata": {},
   "source": [
    "# 문제 2\n",
    "\n",
    "https://programmers.co.kr/learn/courses/30/lessons/83201"
   ]
  },
  {
   "cell_type": "code",
   "execution_count": 76,
   "id": "061bd953-18f5-4d69-b5e8-50ef54b71f54",
   "metadata": {},
   "outputs": [],
   "source": [
    "def solution(scores):\n",
    "    answer = ''\n",
    "    temp2 = [100, 90, 80, 70, 50, 0]\n",
    "    grade = ['A', 'B', 'C', 'D', 'F']\n",
    "    temp3=[]\n",
    "    for i in range(len(scores[0])):\n",
    "        temp_4  = []\n",
    "        for k in range(len(scores)):\n",
    "            temp_4.append(scores[k][i])\n",
    "        temp3.append(temp_4)\n",
    "    for i, score in enumerate(temp3):\n",
    "        if min(score) == score[i]:\n",
    "            temp = [score[n] for n in range(len(score)) if score[n] != min(score)]\n",
    "            if len(temp) == len(score)-1:\n",
    "                mean = sum(temp)/len(temp)\n",
    "            else:\n",
    "                mean = sum(score)/len(score)\n",
    "                \n",
    "        elif max(score) == score[i]:\n",
    "            temp = [score[n] for n in range(len(score)) if score[n] != max(score)]\n",
    "            if len(temp) == len(score)-1:\n",
    "                mean = sum(temp)/len(temp)\n",
    "            else:\n",
    "                mean = sum(score)/len(score)\n",
    "        else:\n",
    "            mean = sum(score)/len(score)       \n",
    "        for k in range(len(grade)):\n",
    "            if mean < temp2[k] and mean >= temp2[k+1]:\n",
    "                answer = answer + grade[k]\n",
    "            \n",
    "    return answer"
   ]
  },
  {
   "cell_type": "markdown",
   "id": "ec19ca5d-1fd4-4a59-b8ba-67ff0c0f71b1",
   "metadata": {},
   "source": [
    "# 문제 3\n",
    "\n",
    "https://programmers.co.kr/learn/courses/30/lessons/64061"
   ]
  },
  {
   "cell_type": "code",
   "execution_count": 205,
   "id": "1121399b-5038-45d0-8be4-cd1fdeb717a5",
   "metadata": {},
   "outputs": [],
   "source": [
    "def solution(board, moves):\n",
    "    bask = []\n",
    "    for i, k in enumerate(moves):\n",
    "        for line in board:\n",
    "            if line[k-1]!=0:\n",
    "                bask.append(line[k-1])\n",
    "                line[k-1] = 0\n",
    "                break\n",
    "    answer = 0\n",
    "    while True:\n",
    "        size = len(bask)\n",
    "        for i in range(len(bask)-1):\n",
    "            if bask[i]==bask[i+1]:\n",
    "                bask.pop(i)\n",
    "                bask.pop(i)\n",
    "                answer = answer + 2\n",
    "                break\n",
    "        if size == len(bask):\n",
    "            break\n",
    "                \n",
    "    return answer"
   ]
  },
  {
   "cell_type": "markdown",
   "id": "e1b11aa6-322b-4210-aa2e-c1131a4a6fe7",
   "metadata": {},
   "source": [
    "# 문제 4\n",
    "\n",
    "https://programmers.co.kr/learn/courses/30/lessons/84325"
   ]
  },
  {
   "cell_type": "code",
   "execution_count": 337,
   "id": "351a7427-f10c-401f-9203-e26dbb197f6b",
   "metadata": {},
   "outputs": [],
   "source": [
    "def solution(table, languages, preference):\n",
    "    score = []\n",
    "    job = []\n",
    "    for chart in table:\n",
    "        idx = []\n",
    "        temp = chart.split(' ')\n",
    "        job.append(temp[0])\n",
    "        del temp[0]\n",
    "        for language in languages:\n",
    "            if language in temp:\n",
    "                idx.append((5-temp.index(language))*preference[languages.index(language)])\n",
    "        score.append(sum(idx))\n",
    "    idx = []\n",
    "    for i in range(len(score)):\n",
    "        if score[i] == max(score):\n",
    "            idx.append(job[i])\n",
    "    idx.sort()\n",
    "    answer = idx[0]\n",
    "    return answer"
   ]
  },
  {
   "cell_type": "markdown",
   "id": "72f812fd-c668-493b-9781-60fb5abffd30",
   "metadata": {},
   "source": [
    "# 문제 5\n",
    "\n",
    "https://programmers.co.kr/learn/courses/30/lessons/42576"
   ]
  },
  {
   "cell_type": "code",
   "execution_count": 339,
   "id": "6c4f1c12-e7e0-46cd-a69e-31abdb99ee72",
   "metadata": {},
   "outputs": [],
   "source": [
    "# 효율성 실패\n",
    "\n",
    "def solution(participant, completion):\n",
    "    for name in completion:\n",
    "        participant.remove(name)\n",
    "    return participant[0]"
   ]
  },
  {
   "cell_type": "code",
   "execution_count": 354,
   "id": "0cc9864d-37da-4fb6-ba35-76bcc491efc9",
   "metadata": {},
   "outputs": [],
   "source": [
    "def solution(participant, completion):\n",
    "    participant.sort()\n",
    "    completion.sort()\n",
    "    for i in range(len(completion)):\n",
    "        if completion[i]!=participant[i]:\n",
    "            return participant[i]\n",
    "    return participant[-1]"
   ]
  }
 ],
 "metadata": {
  "kernelspec": {
   "display_name": "Python 3",
   "language": "python",
   "name": "python3"
  },
  "language_info": {
   "codemirror_mode": {
    "name": "ipython",
    "version": 3
   },
   "file_extension": ".py",
   "mimetype": "text/x-python",
   "name": "python",
   "nbconvert_exporter": "python",
   "pygments_lexer": "ipython3",
   "version": "3.8.8"
  }
 },
 "nbformat": 4,
 "nbformat_minor": 5
}
