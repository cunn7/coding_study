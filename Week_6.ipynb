{
 "cells": [
  {
   "cell_type": "markdown",
   "id": "9e82b72f-c908-4da4-a1d1-5ba6f0fccb14",
   "metadata": {},
   "source": [
    "# 문제 1\n",
    "\n",
    "https://programmers.co.kr/learn/courses/30/lessons/87389"
   ]
  },
  {
   "cell_type": "code",
   "execution_count": 1,
   "id": "76e1eedc-847f-4197-83d9-39ecda4b444f",
   "metadata": {},
   "outputs": [],
   "source": [
    "def solution(n):\n",
    "    for i in range(1,n):\n",
    "        if n%i==1:\n",
    "            break\n",
    "    return i"
   ]
  },
  {
   "cell_type": "markdown",
   "id": "ad8adc44-5144-4c14-9538-0290551ef566",
   "metadata": {},
   "source": [
    "# 문제 2\n",
    "\n",
    "(비트연산 없이 풀기)\n",
    "https://programmers.co.kr/learn/courses/30/lessons/17681"
   ]
  },
  {
   "cell_type": "code",
   "execution_count": 117,
   "id": "f580b494-4c29-4a43-8cc6-5f1df066766b",
   "metadata": {},
   "outputs": [],
   "source": [
    "def solution(n, arr1, arr2):\n",
    "    answer1 = []\n",
    "    for num in arr1:\n",
    "        temp = ''\n",
    "        while int(num)>0:\n",
    "            temp = str(int(num%2)) + temp\n",
    "            num = num/2\n",
    "        if len(temp)<n:\n",
    "            while len(temp) < n :\n",
    "                temp = '0' + temp\n",
    "        answer1.append(temp)\n",
    "    answer2 = []\n",
    "    for num in arr2:\n",
    "        temp = ''\n",
    "        while int(num)>0:\n",
    "            temp = str(int(num%2)) + temp\n",
    "            num = num/2\n",
    "        if len(temp)<n:\n",
    "            while len(temp) < n :\n",
    "                temp = '0' + temp\n",
    "        answer2.append(temp)\n",
    "    answer = []\n",
    "    for i in range(n):\n",
    "        temp = ''\n",
    "        for j in range(n):\n",
    "            if (answer1[i][j]=='1'):\n",
    "                temp = temp +'#'\n",
    "            elif (answer2[i][j]=='1'):\n",
    "                temp = temp + '#'\n",
    "            else:\n",
    "                temp = temp + ' '\n",
    "        answer.append(temp)\n",
    "    return answer"
   ]
  },
  {
   "cell_type": "code",
   "execution_count": 118,
   "id": "26e77436-c170-4fa1-b09b-5406dab86954",
   "metadata": {},
   "outputs": [
    {
     "data": {
      "text/plain": [
       "['#####', '# # #', '### #', '#  ##', '#####']"
      ]
     },
     "execution_count": 118,
     "metadata": {},
     "output_type": "execute_result"
    }
   ],
   "source": [
    "solution(5, [9, 20, 28, 18, 11], [30, 1, 21, 17, 28])"
   ]
  },
  {
   "cell_type": "markdown",
   "id": "6ce42f79-35f5-4c13-b998-5bed2396948d",
   "metadata": {},
   "source": [
    "# 문제 3\n",
    "\n",
    "https://programmers.co.kr/learn/courses/30/lessons/12906"
   ]
  },
  {
   "cell_type": "code",
   "execution_count": 89,
   "id": "d6d16363-b106-4bfb-a787-36b327cb34b8",
   "metadata": {},
   "outputs": [],
   "source": [
    "def solution(arr):\n",
    "    answer = []\n",
    "    for i in range(len(arr)):\n",
    "        if i == 0:\n",
    "            answer.append(arr[i])\n",
    "        elif arr[i]!=arr[i-1]:\n",
    "            answer.append(arr[i])\n",
    "    return answer"
   ]
  },
  {
   "cell_type": "code",
   "execution_count": 90,
   "id": "39e26624-abb3-474e-b711-c4f0f5b2d465",
   "metadata": {},
   "outputs": [
    {
     "data": {
      "text/plain": [
       "[4, 3]"
      ]
     },
     "execution_count": 90,
     "metadata": {},
     "output_type": "execute_result"
    }
   ],
   "source": [
    "solution([4, 4, 4, 3, 3])"
   ]
  },
  {
   "cell_type": "markdown",
   "id": "314d00c2-7cd3-462f-a01e-63eb746f4801",
   "metadata": {},
   "source": [
    "# 문제 4\n",
    "\n",
    "https://programmers.co.kr/learn/courses/30/lessons/12910"
   ]
  },
  {
   "cell_type": "code",
   "execution_count": 94,
   "id": "3be3cbb9-832b-4339-8ea3-24a0437d4ffc",
   "metadata": {},
   "outputs": [],
   "source": [
    "def solution(arr, divisor):\n",
    "    answer = sorted([i for i in arr if i%divisor==0])\n",
    "    if answer == []:\n",
    "        answer = [-1]\n",
    "    return answer"
   ]
  },
  {
   "cell_type": "code",
   "execution_count": 92,
   "id": "b4615ca4-606f-4619-bab2-6efbb3cd9190",
   "metadata": {},
   "outputs": [
    {
     "data": {
      "text/plain": [
       "[2, 36, 1, 3]"
      ]
     },
     "execution_count": 92,
     "metadata": {},
     "output_type": "execute_result"
    }
   ],
   "source": [
    "solution([2, 36, 1, 3], 1)"
   ]
  },
  {
   "cell_type": "markdown",
   "id": "9ee8fc2b-8c99-4fd5-80e2-4a9ff34da887",
   "metadata": {},
   "source": [
    "# 문제 5\n",
    "\n",
    "https://programmers.co.kr/learn/courses/30/lessons/12912"
   ]
  },
  {
   "cell_type": "code",
   "execution_count": 98,
   "id": "631fa7eb-f02a-438b-baec-47931b25ea60",
   "metadata": {},
   "outputs": [],
   "source": [
    "def solution(a, b):\n",
    "    tmp= sorted([a,b])\n",
    "    answer = 0\n",
    "    for i in range(tmp[0],tmp[1]+1):\n",
    "        answer+=i\n",
    "    return answer"
   ]
  },
  {
   "cell_type": "markdown",
   "id": "2085a386-7212-48d0-ad98-4474432dcade",
   "metadata": {},
   "source": [
    "# 문제 6\n",
    "\n",
    "https://programmers.co.kr/learn/courses/30/lessons/12915"
   ]
  },
  {
   "cell_type": "code",
   "execution_count": 115,
   "id": "7120e2ed-594a-4382-a979-dba5839f11bc",
   "metadata": {},
   "outputs": [],
   "source": [
    "def solution(strings, n):\n",
    "    dic = {}\n",
    "    answer = []\n",
    "    for i in strings:\n",
    "        if i[n] in dic.keys():\n",
    "            dic[i[n]] = sorted(dic[i[n]]+[i]) \n",
    "        else:\n",
    "            dic[i[n]] = [i]\n",
    "    for i in sorted(dic.keys()):\n",
    "        answer += dic[i]\n",
    "    return answer"
   ]
  },
  {
   "cell_type": "code",
   "execution_count": 116,
   "id": "b88a8770-1b53-46ff-909b-d922cda8b45c",
   "metadata": {},
   "outputs": [
    {
     "data": {
      "text/plain": [
       "['car', 'bed', 'sun']"
      ]
     },
     "execution_count": 116,
     "metadata": {},
     "output_type": "execute_result"
    }
   ],
   "source": [
    "solution([\"sun\", \"bed\", \"car\"],1)"
   ]
  },
  {
   "cell_type": "code",
   "execution_count": null,
   "id": "0e7951d9-8d5e-401b-88c3-87433eea3de3",
   "metadata": {},
   "outputs": [],
   "source": []
  }
 ],
 "metadata": {
  "kernelspec": {
   "display_name": "Python 3",
   "language": "python",
   "name": "python3"
  },
  "language_info": {
   "codemirror_mode": {
    "name": "ipython",
    "version": 3
   },
   "file_extension": ".py",
   "mimetype": "text/x-python",
   "name": "python",
   "nbconvert_exporter": "python",
   "pygments_lexer": "ipython3",
   "version": "3.8.8"
  }
 },
 "nbformat": 4,
 "nbformat_minor": 5
}
