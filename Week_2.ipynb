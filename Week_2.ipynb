{
 "cells": [
  {
   "cell_type": "markdown",
   "id": "97c0f91a-a817-4e4e-8039-d8af2bfdcf13",
   "metadata": {},
   "source": [
    "# 문제 1\n",
    "\n",
    "https://programmers.co.kr/learn/courses/30/lessons/77484"
   ]
  },
  {
   "cell_type": "code",
   "execution_count": 10,
   "id": "9396c0a7-1be6-4bd7-8b52-523d24ba24dd",
   "metadata": {},
   "outputs": [],
   "source": [
    "def solution(lottos, win_nums):\n",
    "    zeros = 0\n",
    "    min_score = 7\n",
    "    for lotto in lottos:\n",
    "        if lotto == 0:\n",
    "            zeros+=1\n",
    "        elif lotto in win_nums:\n",
    "            min_score -= 1\n",
    "    max_score = min_score - zeros\n",
    "    if min_score >5:\n",
    "        min_score = 6\n",
    "    if max_score > 5:\n",
    "        max_score = 6\n",
    "    return [max_score, min_score]"
   ]
  },
  {
   "cell_type": "code",
   "execution_count": 11,
   "id": "4247f29e-5445-4d67-8c13-6f959932b5c8",
   "metadata": {},
   "outputs": [
    {
     "data": {
      "text/plain": [
       "[1, 6]"
      ]
     },
     "execution_count": 11,
     "metadata": {},
     "output_type": "execute_result"
    }
   ],
   "source": [
    "solution([0, 0, 0, 0, 0, 0], [38, 19, 20, 40, 15, 25])"
   ]
  },
  {
   "cell_type": "markdown",
   "id": "af742018-5d7e-419f-8ed2-32d0aba3c2b5",
   "metadata": {},
   "source": [
    "# 문제 2\n",
    "\n",
    "https://programmers.co.kr/learn/courses/30/lessons/72410\n",
    "\n",
    "1단계 new_id의 모든 대문자를 대응되는 소문자로 치환합니다.\n",
    "\n",
    "2단계 new_id에서 알파벳 소문자, 숫자, 빼기(-), 밑줄(_), 마침표(.)를 제외한 모든 문자를 제거합니다.\n",
    "\n",
    "3단계 new_id에서 마침표(.)가 2번 이상 연속된 부분을 하나의 마침표(.)로 치환합니다.\n",
    "\n",
    "4단계 new_id에서 마침표(.)가 처음이나 끝에 위치한다면 제거합니다.\n",
    "\n",
    "5단계 new_id가 빈 문자열이라면, new_id에 \"a\"를 대입합니다.\n",
    "\n",
    "6단계 new_id의 길이가 16자 이상이면, new_id의 첫 15개의 문자를 제외한 나머지 문자들을 모두 제거합니다.\n",
    "만약 제거 후 마침표(.)가 new_id의 끝에 위치한다면 끝에 위치한 마침표(.) 문자를 제거합니다.\n",
    "     \n",
    "7단계 new_id의 길이가 2자 이하라면, new_id의 마지막 문자를 new_id의 길이가 3이 될 때까지 반복해서 끝에 붙입니다."
   ]
  },
  {
   "cell_type": "code",
   "execution_count": 33,
   "id": "39f60010-90b5-48e2-ac0a-c55e0647bee8",
   "metadata": {},
   "outputs": [],
   "source": [
    "def solution(new_id):\n",
    "    new_id = new_id.lower()\n",
    "    for letter in new_id:\n",
    "        if letter.isalnum() or letter in '-_.':\n",
    "            pass\n",
    "        else:\n",
    "            new_id = new_id.replace(letter,'')\n",
    "    while True:\n",
    "        if '..' in new_id:\n",
    "            new_id = new_id.replace('..','.')\n",
    "        else: \n",
    "            break\n",
    "    if new_id.startswith('.'):\n",
    "        new_id = new_id.lstrip('.')\n",
    "    if new_id.endswith('.'):\n",
    "        new_id = new_id.rstrip('.')\n",
    "    if len(new_id) == 0:\n",
    "        new_id = 'a'\n",
    "    if len(new_id) >= 16:\n",
    "        new_id = new_id[:15]\n",
    "        if new_id.endswith('.'):\n",
    "            new_id = new_id.rstrip('.')\n",
    "    elif len(new_id)<3:\n",
    "        for i in range(3-len(new_id)):\n",
    "            new_id += new_id[-1]\n",
    "    return new_id"
   ]
  },
  {
   "cell_type": "code",
   "execution_count": 34,
   "id": "c269a5d4-6006-486b-8c10-3923872ce1f4",
   "metadata": {},
   "outputs": [
    {
     "data": {
      "text/plain": [
       "'bat.y.abcdefghi'"
      ]
     },
     "execution_count": 34,
     "metadata": {},
     "output_type": "execute_result"
    }
   ],
   "source": [
    "solution (\"...!@BaT#*..y.abcdefghijklm\")"
   ]
  },
  {
   "cell_type": "markdown",
   "id": "cb90e263-d109-4409-9c13-ef5ed1522a08",
   "metadata": {},
   "source": [
    "# 문제 3\n",
    "\n",
    "https://programmers.co.kr/learn/courses/30/lessons/81301"
   ]
  },
  {
   "cell_type": "code",
   "execution_count": 43,
   "id": "263a6af2-a6ed-41a1-8da9-70e224f74d12",
   "metadata": {},
   "outputs": [],
   "source": [
    "def solution(s):\n",
    "    num = ['zero', 'one', 'two', 'three', 'four', 'five', 'six', 'seven', 'eight', 'nine', 'ten']\n",
    "    for i, val in enumerate(num):\n",
    "        s = s.replace(val, str(i))\n",
    "    answer = int(s)\n",
    "    return answer"
   ]
  },
  {
   "cell_type": "code",
   "execution_count": 44,
   "id": "3b6fac7b-e8d2-422d-800f-17a469ac8c4e",
   "metadata": {},
   "outputs": [
    {
     "data": {
      "text/plain": [
       "'234567'"
      ]
     },
     "execution_count": 44,
     "metadata": {},
     "output_type": "execute_result"
    }
   ],
   "source": [
    "solution(\"2three45sixseven\")"
   ]
  },
  {
   "cell_type": "markdown",
   "id": "60e5dcfa-1b2c-4b41-b5c0-91551a9f565c",
   "metadata": {},
   "source": [
    "# 문제 4\n",
    "\n",
    "https://programmers.co.kr/learn/courses/30/lessons/76501"
   ]
  },
  {
   "cell_type": "code",
   "execution_count": 45,
   "id": "6647b48d-79ec-45d7-9cc1-f840b1fa8189",
   "metadata": {},
   "outputs": [],
   "source": [
    "def solution(absolutes, signs):\n",
    "    answer = 0\n",
    "    for i in range(len(absolutes)):\n",
    "        if signs[i] == True:\n",
    "            answer += absolutes[i]\n",
    "        else:\n",
    "            answer -= absolutes[i]\n",
    "    return answer"
   ]
  },
  {
   "cell_type": "markdown",
   "id": "f974ad35-3c4e-4d23-9500-e239233af2dc",
   "metadata": {},
   "source": [
    "# 문제 5\n",
    "\n",
    "https://programmers.co.kr/learn/courses/30/lessons/42840"
   ]
  },
  {
   "cell_type": "code",
   "execution_count": 65,
   "id": "0c4e672f-74bc-4da0-8d6d-92f642b65c0e",
   "metadata": {},
   "outputs": [],
   "source": [
    "def solution(answers):\n",
    "    a = [1,2,3,4,5]\n",
    "    b = [2, 1, 2, 3, 2, 4, 2, 5]\n",
    "    c = [3, 3, 1, 1, 2, 2, 4, 4, 5, 5]\n",
    "    score_a, score_b, score_c = 0, 0, 0\n",
    "    for i in range(len(answers)):\n",
    "        if answers[i] == a[i%len(a)]:\n",
    "            score_a+=1\n",
    "        if answers[i] == b[i%len(b)]:\n",
    "            score_b+=1\n",
    "        if answers[i] == c[i%len(c)]:\n",
    "            score_c+=1\n",
    "    temp = [score_a, score_b, score_c]\n",
    "    answer = []\n",
    "    win = max(temp)\n",
    "    for i in range(len(temp)):\n",
    "        if win == temp[i]:\n",
    "            answer.append(i+1)\n",
    "            temp[i]=0\n",
    "    return answer"
   ]
  },
  {
   "cell_type": "code",
   "execution_count": 67,
   "id": "feb3c99b-64b0-475f-9d27-64ce2c9385d6",
   "metadata": {},
   "outputs": [
    {
     "data": {
      "text/plain": [
       "[1]"
      ]
     },
     "execution_count": 67,
     "metadata": {},
     "output_type": "execute_result"
    }
   ],
   "source": [
    "solution([1, 2, 3, 4, 5])"
   ]
  },
  {
   "cell_type": "code",
   "execution_count": null,
   "id": "d6988f24-01de-4469-9323-5ad254313589",
   "metadata": {},
   "outputs": [],
   "source": []
  },
  {
   "cell_type": "code",
   "execution_count": null,
   "id": "8f2f8c87-176b-47d7-b871-117d4ebb9c1b",
   "metadata": {},
   "outputs": [],
   "source": []
  }
 ],
 "metadata": {
  "kernelspec": {
   "display_name": "Python 3",
   "language": "python",
   "name": "python3"
  },
  "language_info": {
   "codemirror_mode": {
    "name": "ipython",
    "version": 3
   },
   "file_extension": ".py",
   "mimetype": "text/x-python",
   "name": "python",
   "nbconvert_exporter": "python",
   "pygments_lexer": "ipython3",
   "version": "3.8.8"
  }
 },
 "nbformat": 4,
 "nbformat_minor": 5
}
