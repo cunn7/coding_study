{
 "cells": [
  {
   "cell_type": "markdown",
   "id": "70d453ff-2479-4743-bd14-593fba2c918f",
   "metadata": {},
   "source": [
    "# 문제 1\n",
    "\n",
    "https://programmers.co.kr/learn/courses/30/lessons/12899"
   ]
  },
  {
   "cell_type": "code",
   "execution_count": 93,
   "id": "9a580d04-8bc2-4776-a558-b5e711bc58d0",
   "metadata": {},
   "outputs": [],
   "source": [
    "def solution(n):\n",
    "    answer = ''\n",
    "    if n<3:\n",
    "        return str(n)\n",
    "    nums = {'0' : '4', '1':'1', '2':'2'}\n",
    "    while n>=1:\n",
    "        if n%3 == 0:\n",
    "            n = n-3\n",
    "        answer = nums[str(n%3)] + answer\n",
    "        n = n//3\n",
    "    return answer"
   ]
  },
  {
   "cell_type": "code",
   "execution_count": 94,
   "id": "83805710-6432-4cb7-b1f4-fc63a5f87c14",
   "metadata": {},
   "outputs": [
    {
     "data": {
      "text/plain": [
       "'41'"
      ]
     },
     "execution_count": 94,
     "metadata": {},
     "output_type": "execute_result"
    }
   ],
   "source": [
    "solution(10)"
   ]
  },
  {
   "cell_type": "markdown",
   "id": "936bc676-681c-4a89-9f95-1cd15c8fb28d",
   "metadata": {},
   "source": [
    "# 문제 2\n",
    "\n",
    "https://programmers.co.kr/learn/courses/30/lessons/42586"
   ]
  },
  {
   "cell_type": "code",
   "execution_count": 102,
   "id": "879b9854-d806-48cf-825b-f753e7a164ff",
   "metadata": {},
   "outputs": [],
   "source": [
    "def solution(progresses, speeds):\n",
    "    temp = []\n",
    "    for i in range(len(progresses)):\n",
    "        a = (100-progresses[i])//speeds[i]\n",
    "        if (100-progresses[i])%speeds[i] !=0:\n",
    "            a+=1\n",
    "        temp.append(a)\n",
    "    answer = []\n",
    "    count = 1\n",
    "    max_day = temp[0]\n",
    "    for i in range(1, len(temp)):\n",
    "        if temp[i] <= max_day:\n",
    "            count+=1\n",
    "        else:\n",
    "            max_day = temp[i]\n",
    "            answer.append(count)\n",
    "            count = 1\n",
    "    answer.append(count)\n",
    "    return answer"
   ]
  },
  {
   "cell_type": "code",
   "execution_count": 103,
   "id": "2c6e5a69-029f-4f71-a802-545998073cfc",
   "metadata": {},
   "outputs": [
    {
     "data": {
      "text/plain": [
       "[2, 1]"
      ]
     },
     "execution_count": 103,
     "metadata": {},
     "output_type": "execute_result"
    }
   ],
   "source": [
    "solution([93, 30, 55], [1, 30, 5])"
   ]
  },
  {
   "cell_type": "markdown",
   "id": "1f6c6417-c65d-4954-8969-d567726a40b2",
   "metadata": {},
   "source": [
    "# 문제 3\n",
    "\n",
    "https://programmers.co.kr/learn/courses/30/lessons/42626"
   ]
  },
  {
   "cell_type": "code",
   "execution_count": 112,
   "id": "752ae673-a183-4669-8ddf-ae5525cecd53",
   "metadata": {},
   "outputs": [],
   "source": [
    "def solution(scoville, K):\n",
    "    answer = 0\n",
    "    if set(scoville)==set([0]):\n",
    "        return -1\n",
    "    elif len(scoville) == 1 and scoville[0] < 7:\n",
    "        return -1\n",
    "    while min(scoville) < K:\n",
    "        a = min(scoville)\n",
    "        scoville.remove(a)\n",
    "        b = min(scoville)\n",
    "        scoville.remove(b)\n",
    "        scoville = [a+2*b] + scoville\n",
    "        answer+=1\n",
    "    return answer"
   ]
  },
  {
   "cell_type": "code",
   "execution_count": 114,
   "id": "35c34367-694a-4ab1-8c56-fb02e0fc73cc",
   "metadata": {},
   "outputs": [
    {
     "data": {
      "text/plain": [
       "-1"
      ]
     },
     "execution_count": 114,
     "metadata": {},
     "output_type": "execute_result"
    }
   ],
   "source": [
    "solution([2],7)"
   ]
  },
  {
   "cell_type": "markdown",
   "id": "329f5414-b638-4ffb-b348-a8238e87f586",
   "metadata": {},
   "source": [
    "# 문제 4\n",
    "\n",
    "https://programmers.co.kr/learn/courses/30/lessons/12928"
   ]
  },
  {
   "cell_type": "code",
   "execution_count": 196,
   "id": "926c8d89-82ce-46e5-9474-95092d365a7b",
   "metadata": {},
   "outputs": [],
   "source": [
    "def solution(n):\n",
    "    answer = 0\n",
    "    for i in range(1,n+1):\n",
    "        if n%i == 0:\n",
    "            answer+=i\n",
    "    return answer"
   ]
  },
  {
   "cell_type": "code",
   "execution_count": 197,
   "id": "840cd60d-6860-4734-a5be-37969770af29",
   "metadata": {},
   "outputs": [
    {
     "data": {
      "text/plain": [
       "6"
      ]
     },
     "execution_count": 197,
     "metadata": {},
     "output_type": "execute_result"
    }
   ],
   "source": [
    "solution(5)"
   ]
  },
  {
   "cell_type": "code",
   "execution_count": null,
   "id": "2c9fd229-0e61-4bab-b831-92600fc9d60d",
   "metadata": {},
   "outputs": [],
   "source": []
  },
  {
   "cell_type": "code",
   "execution_count": 205,
   "id": "516cd290-3e2f-41e0-9f1a-cd1379010d3b",
   "metadata": {},
   "outputs": [],
   "source": [
    "def solution(s):\n",
    "    temp = s.split(' ')\n",
    "    answer = ''\n",
    "    for word in temp:\n",
    "        for i in range(len(word)):\n",
    "            if i%2 == 0:\n",
    "                answer += word[i].upper()\n",
    "            else:\n",
    "                answer += word[i].lower()\n",
    "        answer+=' '\n",
    "    answer.rstrip(' ')\n",
    "    return answer"
   ]
  },
  {
   "cell_type": "code",
   "execution_count": 206,
   "id": "14768e7b-7ab0-4e3e-96aa-27068a497364",
   "metadata": {},
   "outputs": [
    {
     "name": "stdout",
     "output_type": "stream",
     "text": [
      "['try', 'hello', 'world']\n"
     ]
    },
    {
     "data": {
      "text/plain": [
       "'TrY HeLlO WoRlD '"
      ]
     },
     "execution_count": 206,
     "metadata": {},
     "output_type": "execute_result"
    }
   ],
   "source": [
    "solution('try hello world')"
   ]
  },
  {
   "cell_type": "code",
   "execution_count": null,
   "id": "4016a7fd-b68a-47cc-a1e2-65a825df2081",
   "metadata": {},
   "outputs": [],
   "source": []
  }
 ],
 "metadata": {
  "kernelspec": {
   "display_name": "Python 3",
   "language": "python",
   "name": "python3"
  },
  "language_info": {
   "codemirror_mode": {
    "name": "ipython",
    "version": 3
   },
   "file_extension": ".py",
   "mimetype": "text/x-python",
   "name": "python",
   "nbconvert_exporter": "python",
   "pygments_lexer": "ipython3",
   "version": "3.8.8"
  }
 },
 "nbformat": 4,
 "nbformat_minor": 5
}
